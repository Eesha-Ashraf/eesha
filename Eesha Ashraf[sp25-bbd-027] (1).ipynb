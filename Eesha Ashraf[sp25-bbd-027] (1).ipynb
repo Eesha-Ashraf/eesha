{
 "cells": [
  {
   "cell_type": "code",
   "execution_count": 23,
   "id": "de6e1196-bd97-4ba7-8ac7-5b2ac83695ef",
   "metadata": {},
   "outputs": [
    {
     "name": "stdout",
     "output_type": "stream",
     "text": [
      "['train to busan', 'all of us are dead', 'last day on earth']\n"
     ]
    }
   ],
   "source": [
    " movies = [\"train to busan\", \"all of us are dead\", \"last day on earth\"]\n",
    "print(movies)"
   ]
  },
  {
   "cell_type": "code",
   "execution_count": 21,
   "id": "186786b3-96e6-44b8-82d1-781a898cf87a",
   "metadata": {},
   "outputs": [
    {
     "name": "stdout",
     "output_type": "stream",
     "text": [
      "Train To Busan\n",
      "All Of Us Are Dead\n",
      "Last Day On Earth\n"
     ]
    }
   ],
   "source": [
    " movies = [\"train to busan\", \"all of us are dead\", \"last day on earth\"]\n",
    "for movie in movies:\n",
    "    print(movie.title())"
   ]
  },
  {
   "cell_type": "code",
   "execution_count": 19,
   "id": "1b347ced-3157-4913-9cad-64efc844524b",
   "metadata": {},
   "outputs": [
    {
     "name": "stdout",
     "output_type": "stream",
     "text": [
      "0 Train To Busan\n",
      "1 All Of Us Are Dead\n",
      "2 Last Day On Earth\n"
     ]
    }
   ],
   "source": [
    "movies = [\"train to busan\", \"all of us are dead\", \"last day on earth\"]\n",
    "for i in range(len(movies)):\n",
    "    print(i, movies[i].title())"
   ]
  },
  {
   "cell_type": "code",
   "execution_count": 17,
   "id": "44c183f7-e4fc-403f-8fee-d1664bf3a98d",
   "metadata": {},
   "outputs": [],
   "source": [
    " first_name = \"eesha\"\n",
    "last_name = \"ashraf\"\n",
    "full_name = first_name + \" \" + last_name"
   ]
  },
  {
   "cell_type": "code",
   "execution_count": 15,
   "id": "1803e72d-61ed-4fed-96ae-bd2416b4c9e5",
   "metadata": {},
   "outputs": [
    {
     "name": "stdout",
     "output_type": "stream",
     "text": [
      "e\n",
      "e\n",
      "s\n",
      "h\n",
      "a\n",
      " \n",
      "a\n",
      "s\n",
      "h\n",
      "r\n",
      "a\n",
      "f\n"
     ]
    }
   ],
   "source": [
    "   full_name = \"eesha ashraf\"\n",
    "for char in full_name:\n",
    "    print(char)"
   ]
  },
  {
   "cell_type": "code",
   "execution_count": 13,
   "id": "6f79d091-e820-48fc-b0c4-db0b331ca92c",
   "metadata": {},
   "outputs": [],
   "source": [
    "full_name = \"eesha ashraf\"\n",
    "vowels = \"aeiou\"\n",
    "count = sum(1 for char in full_name if char in vowels)"
   ]
  },
  {
   "cell_type": "code",
   "execution_count": null,
   "id": "83a0ce6d-fd2c-4da3-a71b-da03238d67c5",
   "metadata": {},
   "outputs": [],
   "source": []
  }
 ],
 "metadata": {
  "kernelspec": {
   "display_name": "Python [conda env:base] *",
   "language": "python",
   "name": "conda-base-py"
  },
  "language_info": {
   "codemirror_mode": {
    "name": "ipython",
    "version": 3
   },
   "file_extension": ".py",
   "mimetype": "text/x-python",
   "name": "python",
   "nbconvert_exporter": "python",
   "pygments_lexer": "ipython3",
   "version": "3.12.7"
  }
 },
 "nbformat": 4,
 "nbformat_minor": 5
}
